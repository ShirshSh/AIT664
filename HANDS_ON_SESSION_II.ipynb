{
  "nbformat": 4,
  "nbformat_minor": 0,
  "metadata": {
    "colab": {
      "provenance": [],
      "toc_visible": true,
      "authorship_tag": "ABX9TyNU928Cjeq5ABz1JcDeiXY3"
    },
    "kernelspec": {
      "name": "python3",
      "display_name": "Python 3"
    },
    "language_info": {
      "name": "python"
    }
  },
  "cells": [
    {
      "cell_type": "markdown",
      "source": [
        "Shirsh Shrestha\n",
        "AIT 664-DL3\n",
        "HANDS-ON SESSION-II\n",
        "Professor Hashmi\n"
      ],
      "metadata": {
        "id": "Rq_ItC4lip6_"
      }
    },
    {
      "cell_type": "code",
      "execution_count": 1,
      "metadata": {
        "id": "XCr3038EcYar"
      },
      "outputs": [],
      "source": [
        "import pandas as pd\n",
        "import matplotlib.pyplot as plt\n",
        "from sklearn.model_selection import train_test_split\n",
        "from sklearn.preprocessing import OneHotEncoder, StandardScaler\n",
        "from sklearn.linear_model import LinearRegression\n",
        "from sklearn.ensemble import RandomForestRegressor, GradientBoostingRegressor\n",
        "from sklearn.linear_model import LogisticRegression\n",
        "from sklearn.metrics import accuracy_score, classification_report, confusion_matrix\n",
        "from sklearn.metrics import mean_squared_error, r2_score\n",
        "from sklearn.linear_model import Ridge, Lasso, ElasticNet\n",
        "from sklearn.model_selection import cross_val_score, KFold\n",
        "from sklearn.metrics import make_scorer, mean_squared_error\n",
        "import numpy as np"
      ]
    },
    {
      "cell_type": "code",
      "source": [
        "price_reg=pd.read_csv('/NY-House-Dataset.csv')\n",
        "price_reg.dropna (inplace=True)\n",
        "target = 'PRICE'"
      ],
      "metadata": {
        "id": "pcfpEhJJcvA6"
      },
      "execution_count": 5,
      "outputs": []
    },
    {
      "cell_type": "code",
      "source": [
        "x_train, x_test, y_train, y_test = train_test_split(x_scaled, y, test_size=0.3, random_state=42)"
      ],
      "metadata": {
        "id": "6HNxUOLtc6og"
      },
      "execution_count": 7,
      "outputs": []
    },
    {
      "cell_type": "code",
      "source": [
        "#Categorical and numerical columns\n",
        "categorical_cols =['BROKERTITLE', 'TYPE', 'ADDRESS', 'STATE', 'MAIN_ADDRESS', 'ADMINISTRATIVE_AREA_LEVEL_2', 'LOCALITY', 'SUBLOCALITY', 'STREET_NAME', 'LONG_NAME', 'FORMATTED_ADDRESS']\n",
        "numerical_cols =['BEDS', 'BATH', 'PROPERTYSQFT', 'LATITUDE', 'LONGITUDE']\n",
        "#One-hot encode\n",
        "encoder = OneHotEncoder(drop=\"first\", sparse_output=False)\n",
        "encoded_data = encoder.fit_transform(price_reg[categorical_cols])\n",
        "#Dataframe\n",
        "encoded_columns = encoder.get_feature_names_out (categorical_cols)\n",
        "df_encoded = pd.DataFrame(encoded_data, columns=encoded_columns, index=price_reg.index)\n",
        "#Numerical and encoded categorical data combined\n",
        "x = pd.concat([price_reg[numerical_cols], df_encoded], axis=1)\n",
        "y = price_reg[target]\n",
        "# Scaling the features\n",
        "scaler = StandardScaler()\n",
        "x_scaled = scaler.fit_transform(x)\n",
        "rf_model = RandomForestRegressor(n_estimators=100, random_state=42)\n",
        "rf_model.fit(x_train, y_train)\n",
        "\n",
        "# Predict on the testing set\n",
        "y_pred_rf = rf_model.predict(x_test)\n",
        "\n",
        "# Evaluate the Random Forest Regressor\n",
        "print(\"Random Forest Regressor Mean Squared Error:\", mean_squared_error(y_test, y_pred_rf))\n",
        "print(\"Random Forest Regressor R^2 Score:\", r2_score (y_test, y_pred_rf))"
      ],
      "metadata": {
        "colab": {
          "base_uri": "https://localhost:8080/"
        },
        "id": "P0DZXi2KdMdP",
        "outputId": "7e0e8c4c-2dc7-4abb-bee7-3e4b7027fcdf"
      },
      "execution_count": 8,
      "outputs": [
        {
          "output_type": "stream",
          "name": "stdout",
          "text": [
            "Random Forest Regressor Mean Squared Error: 8072951406056.668\n",
            "Random Forest Regressor R^2 Score: 0.591447151365587\n"
          ]
        }
      ]
    },
    {
      "cell_type": "code",
      "source": [
        "# Initialize\n",
        "linear_model = LinearRegression()\n",
        "linear_model.fit(x_train, y_train)\n",
        "\n",
        "# Predict on the testing set\n",
        "y_pred_linear = linear_model.predict(x_test)\n",
        "\n",
        "# Evaluate the Linear Regression model\n",
        "print(\"Linear Regression Mean Squared Error:\", mean_squared_error(y_test, y_pred_linear))\n",
        "print(\"Linear Regression R^2 Score:\", r2_score (y_test, y_pred_linear))"
      ],
      "metadata": {
        "colab": {
          "base_uri": "https://localhost:8080/"
        },
        "id": "3I_V1oT_eCId",
        "outputId": "9f060c14-827c-4422-d51a-a6303cf2e495"
      },
      "execution_count": 9,
      "outputs": [
        {
          "output_type": "stream",
          "name": "stdout",
          "text": [
            "Linear Regression Mean Squared Error: 56635698738361.57\n",
            "Linear Regression R^2 Score: -1.86619786124297\n"
          ]
        }
      ]
    },
    {
      "cell_type": "code",
      "source": [
        "# Initialize\n",
        "rf_model = RandomForestRegressor(n_estimators=100, random_state=42)\n",
        "rf_model.fit(x_train, y_train)\n",
        "\n",
        "# Predict on the testing set\n",
        "y_pred_rf = rf_model.predict(x_test)\n",
        "\n",
        "# Evaluate the Random Forest Regressor\n",
        "print(\"Random Forest Regressor Mean Squared Error:\", mean_squared_error(y_test, y_pred_rf))\n",
        "print(\"Random Forest Regressor R^2 Score:\", r2_score (y_test, y_pred_rf))"
      ],
      "metadata": {
        "colab": {
          "base_uri": "https://localhost:8080/"
        },
        "id": "_ifDyNW7fcdG",
        "outputId": "be29b886-fd0b-4197-b07f-47e2f0d54734"
      },
      "execution_count": 10,
      "outputs": [
        {
          "output_type": "stream",
          "name": "stdout",
          "text": [
            "Random Forest Regressor Mean Squared Error: 8072951406056.668\n",
            "Random Forest Regressor R^2 Score: 0.591447151365587\n"
          ]
        }
      ]
    },
    {
      "cell_type": "code",
      "source": [
        "# Assuming x and y are features and target variable\n",
        "regressor = RandomForestRegressor(\n",
        "    n_estimators=300,\n",
        "    max_depth=5,\n",
        "    min_samples_split=5,\n",
        "    min_samples_leaf=4,\n",
        "    max_features='sqrt',\n",
        "    random_state=42\n",
        ")\n",
        "\n",
        "# Set up k-fold cross-validation\n",
        "kf = KFold(n_splits=5, shuffle=True, random_state=42)\n",
        "\n",
        "# Perform cross-validation and calculate MSE\n",
        "scores = cross_val_score(\n",
        "    regressor, x, y, cv=kf, scoring=make_scorer(mean_squared_error)\n",
        ")\n",
        "\n",
        "# Calculate the mean and standard deviation\n",
        "mean_mse = np.mean(scores)\n",
        "std_mse = np.std(scores)\n",
        "print(f\"Mean MSE from cross-validation: {mean_mse:.2f}\")\n",
        "\n",
        "# Fit model to entire dataset for R^2 score\n",
        "regressor.fit(x, y)\n",
        "y_pred = regressor.predict(x)\n",
        "r2 = r2_score(y, y_pred)\n",
        "print(f\"R^2 Score: {r2:.2f}\")"
      ],
      "metadata": {
        "colab": {
          "base_uri": "https://localhost:8080/"
        },
        "id": "ZVwnyx7CfibY",
        "outputId": "37fd7f9d-2cc7-4ee5-d9bf-818346799c7c"
      },
      "execution_count": 11,
      "outputs": [
        {
          "output_type": "stream",
          "name": "stdout",
          "text": [
            "Mean MSE from cross-validation: 981654809105897.00\n",
            "R^2 Score: 0.02\n"
          ]
        }
      ]
    },
    {
      "cell_type": "code",
      "source": [
        "# L2 Regularization: Ridge Regression\n",
        "ridge = Ridge(alpha=1.0)\n",
        "ridge.fit(x_train, y_train)\n",
        "ridge_predictions = ridge.predict(x_test)\n",
        "print(\"Ridge MSE:\", mean_squared_error(y_test, ridge_predictions))\n",
        "print(\"Ridge R^2 Score:\", r2_score(y_test, ridge_predictions))"
      ],
      "metadata": {
        "colab": {
          "base_uri": "https://localhost:8080/"
        },
        "id": "Yzb5g87YfmgA",
        "outputId": "6fafc9e2-2634-4d66-e836-6af9b04cbdb3"
      },
      "execution_count": 13,
      "outputs": [
        {
          "output_type": "stream",
          "name": "stdout",
          "text": [
            "Ridge MSE: 14667520605593.844\n",
            "Ridge R^2 Score: 0.25771170611487637\n"
          ]
        }
      ]
    },
    {
      "cell_type": "code",
      "source": [
        "# L1 Regularization: Lasso Regression\n",
        "lasso = Lasso(alpha=0.1)\n",
        "lasso.fit(x_train, y_train)\n",
        "lasso_predictions = lasso.predict(x_test)\n",
        "print(\"Lasso MSE:\", mean_squared_error(y_test, lasso_predictions))\n",
        "print(\"Lasso R^2 Score:\", r2_score(y_test, lasso_predictions))"
      ],
      "metadata": {
        "colab": {
          "base_uri": "https://localhost:8080/"
        },
        "id": "7omdY3OWfpCk",
        "outputId": "212902eb-1f99-4dcc-94a3-8d9d80c6634c"
      },
      "execution_count": 14,
      "outputs": [
        {
          "output_type": "stream",
          "name": "stdout",
          "text": [
            "Lasso MSE: 39031086402044.055\n",
            "Lasso R^2 Score: -0.9752703482009619\n"
          ]
        }
      ]
    },
    {
      "cell_type": "code",
      "source": [
        "# L1 and L2 Regularization: Elastic Net\n",
        "elastic_net = ElasticNet(alpha=0.1, l1_ratio=0.5)\n",
        "elastic_net.fit(x_train, y_train)\n",
        "elastic_net_predictions = elastic_net.predict(x_test)\n",
        "print(\"Elastic Net MSE:\", mean_squared_error(y_test, elastic_net_predictions))\n",
        "print(\"Elastic Net R^2 Score:\", r2_score(y_test, elastic_net_predictions))"
      ],
      "metadata": {
        "colab": {
          "base_uri": "https://localhost:8080/"
        },
        "id": "AoqN-yHOftOb",
        "outputId": "3de672ac-e9d6-41e3-9aaa-18616311f594"
      },
      "execution_count": 15,
      "outputs": [
        {
          "output_type": "stream",
          "name": "stdout",
          "text": [
            "Elastic Net MSE: 14675795880780.059\n",
            "Elastic Net R^2 Score: 0.25729291414146926\n"
          ]
        },
        {
          "output_type": "stream",
          "name": "stderr",
          "text": [
            "/usr/local/lib/python3.10/dist-packages/sklearn/linear_model/_coordinate_descent.py:697: ConvergenceWarning: Objective did not converge. You might want to increase the number of iterations, check the scale of the features or consider increasing regularisation. Duality gap: 2.178e+16, tolerance: 4.690e+14\n",
            "  model = cd_fast.enet_coordinate_descent(\n"
          ]
        }
      ]
    },
    {
      "cell_type": "code",
      "source": [],
      "metadata": {
        "id": "-vlSRtvnfvHZ"
      },
      "execution_count": null,
      "outputs": []
    }
  ]
}