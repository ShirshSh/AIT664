{
 "cells": [
  {
   "cell_type": "code",
   "execution_count": 1,
   "id": "9c457a74",
   "metadata": {},
   "outputs": [],
   "source": [
    "import pandas as pd\n",
    "import matplotlib.pyplot as plt\n",
    "from sklearn.model_selection import train_test_split\n",
    "from sklearn.preprocessing import OneHotEncoder, StandardScaler\n",
    "from sklearn.linear_model import LinearRegression\n",
    "from sklearn.ensemble import RandomForestRegressor, GradientBoostingRegressor\n",
    "from sklearn.linear_model import LogisticRegression\n",
    "from sklearn.metrics import accuracy_score, classification_report, confusion_matrix\n",
    "from sklearn.metrics import mean_squared_error, r2_score\n",
    "from sklearn.linear_model import Ridge, Lasso, ElasticNet\n",
    "from sklearn.model_selection import cross_val_score, KFold\n",
    "from sklearn.metrics import make_scorer, mean_squared_error\n",
    "import numpy as np"
   ]
  },
  {
   "cell_type": "code",
   "execution_count": 2,
   "id": "11906150",
   "metadata": {},
   "outputs": [],
   "source": [
    "price_reg=pd.read_csv('C:/Users/shirs/Desktop/NY-House-Dataset.csv')\n",
    "price_reg.dropna (inplace=True)\n",
    "target = 'PRICE'"
   ]
  },
  {
   "cell_type": "code",
   "execution_count": 3,
   "id": "1390cbf2",
   "metadata": {},
   "outputs": [],
   "source": [
    "# Define categorical and numerical columns\n",
    "categorical_cols =['BROKERTITLE', 'TYPE', 'ADDRESS', 'STATE', 'MAIN_ADDRESS', 'ADMINISTRATIVE_AREA_LEVEL_2', 'LOCALITY', 'SUBLOCALITY', 'STREET_NAME', 'LONG_NAME', 'FORMATTED_ADDRESS']\n",
    "numerical_cols =['BEDS', 'BATH', 'PROPERTYSQFT', 'LATITUDE', 'LONGITUDE']\n",
    "# One-hot encode categorical features\n",
    "encoder = OneHotEncoder(drop=\"first\", sparse_output=False)\n",
    "encoded_data = encoder.fit_transform(price_reg[categorical_cols])\n",
    "# Create a Dataframe from encoded data\n",
    "encoded_columns = encoder.get_feature_names_out (categorical_cols)\n",
    "df_encoded = pd.DataFrame(encoded_data, columns=encoded_columns, index=price_reg.index)\n",
    "# Combine numerical data and encoded categorical data\n",
    "x = pd.concat([price_reg[numerical_cols], df_encoded], axis=1)\n",
    "y = price_reg[target]\n",
    "# Scale the features for better performance of regression models\n",
    "scaler = StandardScaler()\n",
    "x_scaled = scaler.fit_transform(x)# Initialize and train the Random Forest Regressor\n",
    "rf_model = RandomForestRegressor(n_estimators=100, random_state=42)\n",
    "rf_model.fit(x_train, y_train)\n",
    "\n",
    "# Predict on the testing set\n",
    "y_pred_rf = rf_model.predict(x_test)\n",
    "\n",
    "# Evaluate the Random Forest Regressor\n",
    "print(\"Random Forest Regressor Mean Squared Error:\", mean_squared_error(y_test, y_pred_rf))\n",
    "print(\"Random Forest Regressor R^2 Score:\", r2_score (y_test, y_pred_rf))"
   ]
  },
  {
   "cell_type": "code",
   "execution_count": 4,
   "id": "633fe970",
   "metadata": {},
   "outputs": [],
   "source": [
    "x_train, x_test, y_train, y_test = train_test_split(x_scaled, y, test_size=0.3, random_state=42)"
   ]
  },
  {
   "cell_type": "code",
   "execution_count": 5,
   "id": "40de3c75",
   "metadata": {},
   "outputs": [
    {
     "name": "stdout",
     "output_type": "stream",
     "text": [
      "Linear Regression Mean Squared Error: 17732741156219.297\n",
      "Linear Regression R^2 Score: 0.1025881924627019\n"
     ]
    }
   ],
   "source": [
    "# Initialize and train the Linear Regression model\n",
    "linear_model = LinearRegression()\n",
    "linear_model.fit(x_train, y_train)\n",
    "\n",
    "# Predict on the testing set\n",
    "y_pred_linear = linear_model.predict(x_test)\n",
    "\n",
    "# Evaluate the Linear Regression model\n",
    "print(\"Linear Regression Mean Squared Error:\", mean_squared_error(y_test, y_pred_linear))\n",
    "print(\"Linear Regression R^2 Score:\", r2_score (y_test, y_pred_linear))"
   ]
  },
  {
   "cell_type": "code",
   "execution_count": 7,
   "id": "f7a18af2",
   "metadata": {},
   "outputs": [
    {
     "name": "stdout",
     "output_type": "stream",
     "text": [
      "Random Forest Regressor Mean Squared Error: 8072951406056.668\n",
      "Random Forest Regressor R^2 Score: 0.591447151365587\n"
     ]
    }
   ],
   "source": [
    "# Initialize and train the Random Forest Regressor\n",
    "rf_model = RandomForestRegressor(n_estimators=100, random_state=42)\n",
    "rf_model.fit(x_train, y_train)\n",
    "\n",
    "# Predict on the testing set\n",
    "y_pred_rf = rf_model.predict(x_test)\n",
    "\n",
    "# Evaluate the Random Forest Regressor\n",
    "print(\"Random Forest Regressor Mean Squared Error:\", mean_squared_error(y_test, y_pred_rf))\n",
    "print(\"Random Forest Regressor R^2 Score:\", r2_score (y_test, y_pred_rf))"
   ]
  },
  {
   "cell_type": "code",
   "execution_count": 8,
   "id": "a92e6fe5",
   "metadata": {},
   "outputs": [
    {
     "name": "stdout",
     "output_type": "stream",
     "text": [
      "Mean MSE from cross-validation: 981654809105897.00\n",
      "R^2 Score: 0.02\n"
     ]
    }
   ],
   "source": [
    "# Assuming x and y are your features and target variable\n",
    "regressor = RandomForestRegressor(\n",
    "    n_estimators=300,\n",
    "    max_depth=5,\n",
    "    min_samples_split=5,\n",
    "    min_samples_leaf=4,\n",
    "    max_features='sqrt',\n",
    "    random_state=42\n",
    ")\n",
    "\n",
    "# Set up k-fold cross-validation (5 folds)\n",
    "kf = KFold(n_splits=5, shuffle=True, random_state=42)\n",
    "\n",
    "# Perform cross-validation and calculate MSE for each fold\n",
    "scores = cross_val_score(\n",
    "    regressor, x, y, cv=kf, scoring=make_scorer(mean_squared_error)\n",
    ")\n",
    "\n",
    "# Calculate the mean and standard deviation of the MSE scores\n",
    "mean_mse = np.mean(scores)\n",
    "std_mse = np.std(scores)\n",
    "print(f\"Mean MSE from cross-validation: {mean_mse:.2f}\")\n",
    "\n",
    "# Fit model to entire dataset for R^2 score demonstration\n",
    "regressor.fit(x, y)\n",
    "y_pred = regressor.predict(x)\n",
    "r2 = r2_score(y, y_pred)\n",
    "print(f\"R^2 Score: {r2:.2f}\")"
   ]
  },
  {
   "cell_type": "code",
   "execution_count": 9,
   "id": "7dbb3d04",
   "metadata": {},
   "outputs": [
    {
     "name": "stdout",
     "output_type": "stream",
     "text": [
      "Ridge MSE: 14667520605590.479\n",
      "Ridge R^2 Score: 0.25771170611504657\n"
     ]
    }
   ],
   "source": [
    "# L2 Regularization: Ridge Regression\n",
    "ridge = Ridge(alpha=1.0)  # alpha controls the regularization strength; higher alpha means more regularization\n",
    "ridge.fit(x_train, y_train)\n",
    "ridge_predictions = ridge.predict(x_test)\n",
    "print(\"Ridge MSE:\", mean_squared_error(y_test, ridge_predictions))\n",
    "print(\"Ridge R^2 Score:\", r2_score(y_test, ridge_predictions))"
   ]
  },
  {
   "cell_type": "code",
   "execution_count": 10,
   "id": "585a7b32",
   "metadata": {},
   "outputs": [
    {
     "name": "stdout",
     "output_type": "stream",
     "text": [
      "Lasso MSE: 39031086402044.0\n",
      "Lasso R^2 Score: -0.9752703482009588\n"
     ]
    }
   ],
   "source": [
    "# L1 Regularization: Lasso Regression\n",
    "lasso = Lasso(alpha=0.1)  # alpha is the regularization parameter; higher alpha means more regularization\n",
    "lasso.fit(x_train, y_train)\n",
    "lasso_predictions = lasso.predict(x_test)\n",
    "print(\"Lasso MSE:\", mean_squared_error(y_test, lasso_predictions))\n",
    "print(\"Lasso R^2 Score:\", r2_score(y_test, lasso_predictions))"
   ]
  },
  {
   "cell_type": "code",
   "execution_count": 11,
   "id": "5d59dd0c",
   "metadata": {},
   "outputs": [
    {
     "name": "stdout",
     "output_type": "stream",
     "text": [
      "Elastic Net MSE: 14675795880780.053\n",
      "Elastic Net R^2 Score: 0.2572929141414696\n"
     ]
    },
    {
     "name": "stderr",
     "output_type": "stream",
     "text": [
      "C:\\Users\\shirs\\anaconda3\\Lib\\site-packages\\sklearn\\linear_model\\_coordinate_descent.py:628: ConvergenceWarning: Objective did not converge. You might want to increase the number of iterations, check the scale of the features or consider increasing regularisation. Duality gap: 2.178e+16, tolerance: 4.690e+14\n",
      "  model = cd_fast.enet_coordinate_descent(\n"
     ]
    }
   ],
   "source": [
    "# L1 and L2 Regularization: Elastic Net\n",
    "elastic_net = ElasticNet(alpha=0.1, l1_ratio=0.5)  # l1_ratio balances between L1 and L2 (0 = pure L2, 1 = pure L1)\n",
    "elastic_net.fit(x_train, y_train)\n",
    "elastic_net_predictions = elastic_net.predict(x_test)\n",
    "print(\"Elastic Net MSE:\", mean_squared_error(y_test, elastic_net_predictions))\n",
    "print(\"Elastic Net R^2 Score:\", r2_score(y_test, elastic_net_predictions))"
   ]
  },
  {
   "cell_type": "code",
   "execution_count": null,
   "id": "eaf98e03",
   "metadata": {},
   "outputs": [],
   "source": []
  }
 ],
 "metadata": {
  "kernelspec": {
   "display_name": "Python 3 (ipykernel)",
   "language": "python",
   "name": "python3"
  },
  "language_info": {
   "codemirror_mode": {
    "name": "ipython",
    "version": 3
   },
   "file_extension": ".py",
   "mimetype": "text/x-python",
   "name": "python",
   "nbconvert_exporter": "python",
   "pygments_lexer": "ipython3",
   "version": "3.11.4"
  }
 },
 "nbformat": 4,
 "nbformat_minor": 5
}
